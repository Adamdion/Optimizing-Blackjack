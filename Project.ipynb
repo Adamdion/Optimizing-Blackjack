{
 "cells": [
  {
   "cell_type": "markdown",
   "metadata": {},
   "source": [
    "#### CMSE 201 Final Project\n",
    "### &#9989; Adam Dion\n",
    "### &#9989; Section_004\n",
    "#### &#9989; 4/10/2020"
   ]
  },
  {
   "cell_type": "markdown",
   "metadata": {},
   "source": [
    "# ___Optimizing Blackjack___"
   ]
  },
  {
   "cell_type": "markdown",
   "metadata": {},
   "source": [
    "## Background and Motivation"
   ]
  },
  {
   "attachments": {
    "Screen%20Shot%202020-03-19%20at%205.40.22%20PM.png": {
     "image/png": "[encoded data removed]"
    }
   },
   "cell_type": "markdown",
   "metadata": {},
   "source": [
    "For my project I modeled the very popular casion game black jack. I followed common blackjack strategy when a dealer stands on a soft 17(the rules I used are shown below).\n",
    "\n",
    "![Screen%20Shot%202020-03-19%20at%205.40.22%20PM.png](attachment:Screen%20Shot%202020-03-19%20at%205.40.22%20PM.png)"
   ]
  },
  {
   "cell_type": "markdown",
   "metadata": {},
   "source": [
    "# Their are multiple goals of this project:\n",
    "1. What are the chances a player has to win a single hand in blackjack(using law of large numbers).\n",
    " - Their are multiple answers to this online so I want to find the answer myself. Some results I have found are: \n",
    "\n",
    " - From https://wizardofodds.com/games/blackjack/variance/ they give the results of \n",
    "    * 42.43% win \n",
    "    * 8.48% push(tie)\n",
    "    * 49.09% loss\n",
    " - From https://www.777.com/casino-games/blackjack/statistics.htm they give the result of \n",
    "    * 48% win \n",
    " - From https://www.888casino.com/blog/top-8-reasons-why-most-blackjack-players-lose they give the result of\n",
    "    * 48% excluding ties\n",
    "    * So, What is odds of truly winning one hand???\n",
    "2. Model a real game where a player can see how much money they will win based on an initial amount they start with while having a constant bet.\n",
    "3. Come up with a solution to limit risk for the amount of money you lose"
   ]
  },
  {
   "cell_type": "markdown",
   "metadata": {},
   "source": [
    "## Methodology"
   ]
  },
  {
   "cell_type": "code",
   "execution_count": 1,
   "metadata": {},
   "outputs": [],
   "source": [
    "#This cell just imports all of the libraries I used \n",
    "import random\n",
    "import matplotlib.pyplot as plt\n",
    "import numpy as np\n",
    "%matplotlib inline\n"
   ]
  },
  {
   "cell_type": "code",
   "execution_count": 2,
   "metadata": {},
   "outputs": [],
   "source": [
    "#This cell has the deck that im using and is used a lot in later cells\n",
    "def initalize_deck():\n",
    "    deck = [2,3,4,5,6,7,8,9,10,10,10,10,11]    \n",
    "    return deck"
   ]
  },
  {
   "cell_type": "code",
   "execution_count": 3,
   "metadata": {},
   "outputs": [],
   "source": [
    "#This cell gives the player and dealer two cards\n",
    "def dealing(deck):\n",
    "    #two blank lists that will be filled with two cards to complete their hand\n",
    "    player = []\n",
    "    dealer = []\n",
    "    \n",
    "    #randomly picks a value from the deck and puts it in the players hand\n",
    "    player.append(np.random.choice(deck)) \n",
    "    player.append(np.random.choice(deck))\n",
    "    dealer.append(np.random.choice(deck))\n",
    "    dealer.append(np.random.choice(deck))\n",
    "    \n",
    "    #returns both the players and dealers hand\n",
    "    return player, dealer"
   ]
  },
  {
   "cell_type": "code",
   "execution_count": 4,
   "metadata": {},
   "outputs": [],
   "source": [
    "#In blackjack if you have an ace you can play it as a 11 or as a 1.\n",
    "#This cell checks to see if the player has an ace and decides if it should use it as an 11 or a 1.\n",
    "def ace_play(player):\n",
    "    players_hand = sum(player)\n",
    "    if player[0] == 11 or player[1] == 11:\n",
    "        if players_hand < 17 and players_hand > 13:\n",
    "            return True\n",
    "        else:\n",
    "            return False\n",
    "    else: \n",
    "        return False  "
   ]
  },
  {
   "cell_type": "code",
   "execution_count": 5,
   "metadata": {},
   "outputs": [],
   "source": [
    "#This cell takes the players hand and first checks to see if it has an ace that is using the 11.\n",
    "#If the hand is using the 11 and busts then it will return true and later on it will change the 11 to a 1.\n",
    "def bust_bc_ace(player):\n",
    "    players_hand = sum(player)\n",
    "    \n",
    "    if players_hand >= 22:\n",
    "        if player[0] == 11 or player[1] == 11:\n",
    "            return True\n",
    "        else:\n",
    "            return False\n",
    "    else:\n",
    "        return False"
   ]
  },
  {
   "cell_type": "code",
   "execution_count": 6,
   "metadata": {},
   "outputs": [],
   "source": [
    "#This cell takes the dealers hand and first checks to see if it has an ace that is using the 11.\n",
    "#If the hand is using the 11 and busts then it will return true and later on it will change the 11 to a 1.\n",
    "def bust_bc_ace_dealer(dealer):\n",
    "    dealers_hand = sum(dealer)\n",
    "\n",
    "    if dealers_hand >= 22:\n",
    "        if dealer[0] == 11 or dealer[1] == 11:\n",
    "            return True\n",
    "        else:\n",
    "            return False\n",
    "    else:\n",
    "        return False"
   ]
  },
  {
   "cell_type": "code",
   "execution_count": 7,
   "metadata": {},
   "outputs": [],
   "source": [
    "#This cell contains all of the optimal plays for the player to make\n",
    "def players_play(player,dealer):\n",
    "    #takes the sum of the players hand bc we only care about the numbers added together\n",
    "    players_hand = sum(player)\n",
    "    #looks at the dealers first card because it will be faced up\n",
    "    dealers_first_card = dealer[0]\n",
    "    i = 1\n",
    "    double = False\n",
    "    #while loop that goes until the player has finished its move\n",
    "    while i < 6:\n",
    "        #All of the players options, it breaks the loop when thats the hadn the player will use to go against the dealers hadn\n",
    "        \n",
    "        if players_hand >= 17:\n",
    "            players_hand = players_hand\n",
    "            break\n",
    "        if ace_play(player) == True:\n",
    "            players_hand = players_hand + (np.random.choice(deck))\n",
    "\n",
    "        if players_hand == 11:\n",
    "            double = True\n",
    "            players_hand = players_hand + (np.random.choice(deck))\n",
    "            break\n",
    "        if players_hand == 10 and dealers_first_card <= 9:\n",
    "            double = True\n",
    "            players_hand = players_hand + (np.random.choice(deck))\n",
    "            break\n",
    "        if players_hand == 10 and dealers_first_card > 9:\n",
    "            players_hand = players_hand + (np.random.choice(deck))\n",
    "\n",
    "        if players_hand == 9 and dealers_first_card <= 6:\n",
    "            double = True\n",
    "            players_hand = players_hand + (np.random.choice(deck))\n",
    "            break\n",
    "            \n",
    "        if players_hand == 9 and dealers_first_card > 6:\n",
    "            players_hand = players_hand + (np.random.choice(deck))\n",
    "        \n",
    "        if players_hand <= 8:\n",
    "            players_hand = players_hand + (np.random.choice(deck))\n",
    "\n",
    "        if players_hand == 12 and dealers_first_card >= 7 or dealers_first_card <= 3:\n",
    "            players_hand = players_hand + (np.random.choice(deck))\n",
    "            \n",
    "        if players_hand == 12 and dealers_first_card >= 4 or dealers_first_card <= 6:\n",
    "            players_hand = players_hand\n",
    "\n",
    "        if dealers_first_card > 6 and players_hand >= 13 and players_hand <= 16:\n",
    "            players_hand = players_hand + (np.random.choice(deck))\n",
    "            \n",
    "        if dealers_first_card <= 6 and players_hand >= 13 and players_hand <= 16:\n",
    "            players_hand = players_hand \n",
    "            break\n",
    "        \n",
    "        if bust_bc_ace(player) == True:\n",
    "            players_hand = players_hand - 10\n",
    "       \n",
    "        \n",
    "        i += 1   \n",
    "            \n",
    "    # Lets me know if the player busts or not\n",
    "    if players_hand > 21:      \n",
    "        p_playable = False  \n",
    "        \n",
    "    if players_hand <= 21:\n",
    "        p_playable = True\n",
    "    return p_playable, double, players_hand"
   ]
  },
  {
   "cell_type": "code",
   "execution_count": 8,
   "metadata": {},
   "outputs": [],
   "source": [
    "#All of the options the dealer can make\n",
    "def dealers_play(dealer):\n",
    "    dealers_hand = sum(dealer)\n",
    "    d_playable = None\n",
    "            \n",
    "    if dealers_hand <= 21 and dealers_hand >= 17:\n",
    "        d_playable = True \n",
    "        dealers_hand = dealers_hand\n",
    "          \n",
    "    while dealers_hand <= 16:\n",
    "    \n",
    "        if dealers_hand <= 16:\n",
    "            dealers_hand = dealers_hand + (np.random.choice(deck))\n",
    "            if bust_bc_ace_dealer(dealer) == True:\n",
    "                dealers_hand = dealers_hand - 10\n",
    "            if dealers_hand <= 21 and dealers_hand >= 17:\n",
    "                d_playable = True \n",
    "            else:\n",
    "                d_playable = False\n",
    "                \n",
    "    return d_playable, dealers_hand"
   ]
  },
  {
   "cell_type": "code",
   "execution_count": 9,
   "metadata": {},
   "outputs": [],
   "source": [
    "#returns if the player won, loss, or tied\n",
    "def winner(p_playable,d_playable,players_hand,dealers_hand):   \n",
    "    #If it returns true then the player won\n",
    "    result = None\n",
    "    if p_playable == False: #if the player bust they lose\n",
    "        result = 'loss'\n",
    "    if d_playable == False and p_playable == True: #if the dealer busts and the player doesnt player wins\n",
    "        result='win'\n",
    "    if p_playable == True and d_playable == True: #if they both didnt bust it compares hands\n",
    "        if players_hand == dealers_hand:\n",
    "            result='tie'\n",
    "        elif players_hand > dealers_hand:\n",
    "            result='win'\n",
    "        elif players_hand < dealers_hand:\n",
    "            result='loss'\n",
    "                             \n",
    "    return result                  "
   ]
  },
  {
   "cell_type": "code",
   "execution_count": 10,
   "metadata": {},
   "outputs": [],
   "source": [
    "#this cell deals with the pay out of money for every hand\n",
    "def money(result,double,gamble,bet):\n",
    "    if double == False:\n",
    "        if result=='win':\n",
    "            gamble = gamble + bet \n",
    "        if result == 'loss':\n",
    "            gamble = gamble - bet \n",
    "        if result == 'tie':\n",
    "            gamble = gamble\n",
    "\n",
    "    if double == True:\n",
    "        if result == 'win':\n",
    "            gamble = gamble + (bet * 2) \n",
    "        if result == 'loss':\n",
    "            gamble = gamble - (bet * 2)\n",
    "        if result == 'tie':\n",
    "            gamble = gamble\n",
    "                \n",
    "    return gamble"
   ]
  },
  {
   "cell_type": "code",
   "execution_count": 11,
   "metadata": {},
   "outputs": [],
   "source": [
    "#this function takes betting into a more complex matter with proggressive betting\n",
    "#this works by betting more if you win to play with your winnings and bet less if you lose so you dont go bankrupt\n",
    "def proggressive_betting(result,bet):\n",
    "    if bet >= 5 * bet:\n",
    "        bet = bet\n",
    "    elif bet <= 5 / bet:\n",
    "        bet = bet\n",
    "        if result == 'win':\n",
    "            bet = bet * 1.5\n",
    "        elif result == 'loss':\n",
    "            bet = bet / 2\n",
    "        else:\n",
    "            bet = bet\n",
    "    \n",
    "    return bet"
   ]
  },
  {
   "cell_type": "markdown",
   "metadata": {},
   "source": [
    "## Results"
   ]
  },
  {
   "cell_type": "code",
   "execution_count": 12,
   "metadata": {},
   "outputs": [
    {
     "name": "stdout",
     "output_type": "stream",
     "text": [
      "Total wins:   4151    Win Percent:  0.4151\n",
      "Total losses: 4955    Loss Percent:  0.4955\n",
      "Total ties:   863     Tie Percent:  0.0863\n"
     ]
    }
   ],
   "source": [
    "## win counter \n",
    "hands_played = 10000\n",
    "i = 1\n",
    "win_count = []\n",
    "loss_count = []\n",
    "tie_count = []\n",
    "while i < hands_played:\n",
    "    #initalize board and hands\n",
    "\n",
    "    deck = initalize_deck()\n",
    "    hands = dealing(deck)\n",
    "    player = hands[0]\n",
    "    dealer = hands[1]\n",
    "    \n",
    "    #each players options based off their hand\n",
    "    d_playable,dealers_hand = dealers_play(dealer)\n",
    "    \n",
    "    p_playable,double,players_hand = players_play(player,dealer)\n",
    "    #finds out who wins\n",
    "    result = winner(p_playable,d_playable,players_hand,dealers_hand)\n",
    "    #counts the number of wins\n",
    "    if result == 'win':\n",
    "        win_count.append(i)\n",
    "    if result == 'loss':\n",
    "        loss_count.append(i)\n",
    "    if result == 'tie':\n",
    "        tie_count.append(i)\n",
    "            \n",
    "    i += 1\n",
    "    \n",
    "total_wins = len(win_count)\n",
    "win_per = total_wins / hands_played\n",
    "total_losses = len(loss_count)\n",
    "loss_per = total_losses / hands_played\n",
    "total_ties = len(tie_count)\n",
    "tie_per = total_ties / hands_played\n",
    "\n",
    "print('Total wins:  ', total_wins, '   Win Percent: ', win_per)\n",
    "print('Total losses:',total_losses, '   Loss Percent: ', loss_per)\n",
    "print('Total ties:  ', total_ties, '    Tie Percent: ', tie_per)"
   ]
  },
  {
   "cell_type": "code",
   "execution_count": null,
   "metadata": {},
   "outputs": [],
   "source": []
  },
  {
   "cell_type": "code",
   "execution_count": 13,
   "metadata": {},
   "outputs": [
    {
     "name": "stdout",
     "output_type": "stream",
     "text": [
      "How many hands do you wanna play?50\n",
      "How much money do you want to start off with?20\n",
      "How much do you wanna bet every hand?1\n",
      "You are now at 5 dollars\n"
     ]
    },
    {
     "data": {
      "text/plain": [
       "Text(0.5, 1.0, 'Game of blackjack normal strategy')"
      ]
     },
     "execution_count": 13,
     "metadata": {},
     "output_type": "execute_result"
    },
    {
     "data": {
      "image/png": "[encoded data removed]",
      "text/plain": [
       "<Figure size 432x288 with 1 Axes>"
      ]
     },
     "metadata": {
      "needs_background": "light"
     },
     "output_type": "display_data"
    }
   ],
   "source": [
    "#Main Function To play\n",
    "\n",
    "#Ask user how they wanna play\n",
    "hands = int(input('How many hands do you wanna play?'))\n",
    "gamble = int(input('How much money do you want to start off with?'))\n",
    "bet = int(input('How much do you wanna bet every hand?'))\n",
    "\n",
    "x = hands\n",
    "i = 1\n",
    "tracker = []\n",
    "tracker.append(gamble)\n",
    "while i < x:\n",
    "    #initalize board and hands\n",
    "    if gamble <= 0:\n",
    "        break\n",
    "    deck = initalize_deck()\n",
    "    hands = dealing(deck)\n",
    "    player = hands[0]\n",
    "    dealer = hands[1]\n",
    "    \n",
    "    #each players options based off their hand\n",
    "    d_playable,dealers_hand = dealers_play(dealer)\n",
    "\n",
    "    p_playable,double,players_hand = players_play(player,dealer)\n",
    "    #finds out who wins\n",
    "    result = winner(p_playable,d_playable,players_hand,dealers_hand)\n",
    "    #deals with money\n",
    "    gamble = money(result,double,gamble,bet)\n",
    "    tracker.append(gamble)\n",
    "    i += 1\n",
    "if gamble <= 0:\n",
    "    print('You are out of money')\n",
    "if gamble > 0:\n",
    "    print('You are now at', gamble, 'dollars')\n",
    "    \n",
    "plt.figure(1)\n",
    "plt.plot(tracker)\n",
    "plt.xlabel(\"Amount of hands\")\n",
    "plt.ylabel(\"Money\")\n",
    "plt.title(\"Game of blackjack normal strategy\")"
   ]
  },
  {
   "cell_type": "code",
   "execution_count": 14,
   "metadata": {},
   "outputs": [
    {
     "name": "stdout",
     "output_type": "stream",
     "text": [
      "How many hands do you wanna play?500\n",
      "How much money do you want to start off with?20\n",
      "How much do you wanna bet every hand?1\n",
      "You are now at 17.252423081154678 dollars\n",
      "6.767357609547206e-42\n"
     ]
    },
    {
     "data": {
      "image/png": "[encoded data removed]",
      "text/plain": [
       "<Figure size 432x288 with 1 Axes>"
      ]
     },
     "metadata": {
      "needs_background": "light"
     },
     "output_type": "display_data"
    }
   ],
   "source": [
    "# Main Function To play\n",
    "\n",
    "#Ask user how they wanna play\n",
    "hands = int(input('How many hands do you wanna play?'))\n",
    "gamble = int(input('How much money do you want to start off with?'))\n",
    "bet = int(input('How much do you wanna bet every hand?'))\n",
    "\n",
    "x = hands\n",
    "i = 1\n",
    "tracker = []\n",
    "tracker.append(gamble)\n",
    "while i < x:\n",
    "    #initalize board and hands\n",
    "    if gamble <= 0:\n",
    "        break\n",
    "    deck = initalize_deck()\n",
    "    hands = dealing(deck)\n",
    "    player = hands[0]\n",
    "    dealer = hands[1]\n",
    "    \n",
    "    #each players options based off their hand\n",
    "    d_playable,dealers_hand = dealers_play(dealer)\n",
    "    p_playable,double,players_hand = players_play(player,dealer)\n",
    "    #finds out who wins\n",
    "    result = winner(p_playable,d_playable,players_hand,dealers_hand)\n",
    "    #deals with money\n",
    "    gamble = money(result,double,gamble,bet)\n",
    "    #adds in proggressive betting\n",
    "    bet = proggressive_betting(result,bet)\n",
    "    tracker.append(gamble)\n",
    "    i += 1\n",
    "if gamble <= 0:\n",
    "    print('You are out of money')\n",
    "if gamble > 0:\n",
    "    print('You are now at', gamble, 'dollars')\n",
    "plt.plot(tracker)\n",
    "plt.xlabel(\"Amount of hands\")\n",
    "plt.ylabel(\"Money\")\n",
    "plt.title(\"Game of blackjack with progressive betting\")\n",
    "print(bet)"
   ]
  },
  {
   "cell_type": "markdown",
   "metadata": {},
   "source": [
    "## Discussion and Conclustion"
   ]
  },
  {
   "cell_type": "markdown",
   "metadata": {},
   "source": [
    "1. What did you learn?\n",
    "\n",
    ">From this experiment I learned the dealer will always have the better odds of winning in black jack but their are ways to help minimize your losses.\n",
    "\n",
    "2. What obstacles did you run into?\n",
    "\n",
    ">It took me a while to make sure the player was always doing the most optimal move and having that in the correct order. After figuring that out it took me a while to figure out a strategy to minimize losses while betting.\n",
    "\n",
    "3. what would you do differently?\n",
    "\n",
    ">I wouldn't change alot because im very happy with how this came out. The only thing I would change would be to have a cooler way to show my results.\n",
    "\n",
    "4. clearly provide quantitave answers to your questions?\n",
    "\n",
    ">The odds to win a single blackjack hand using basic strategy and law of large numbers is: \n",
    "\n",
    ">41.8% win 49.2% lose 9% tie\n",
    "\n",
    ">When betting normaly it is very rare to profit money and if you play enough hands you almost always go bankrupt.\n",
    "\n",
    ">With progressive betting it's clear to see that it minimizes losses while helping increase profit.\n"
   ]
  },
  {
   "cell_type": "markdown",
   "metadata": {},
   "source": [
    "### References"
   ]
  },
  {
   "cell_type": "markdown",
   "metadata": {},
   "source": [
    "These are the sources of the data that is up above in the goals of the project section\n",
    "\n",
    "1. Shackleford, Michael. “Variance in Blackjack.” Wizard Of Odds, Your Guide to Gambling and Online Casinos, News, Wizard of Odds, 21 Jan. 2019, wizardofodds.com/games/blackjack/variance/.\n",
    "\n",
    "2. “Blackjack Statistics at 777.” 777, 30 July 2015, www.777.com/casino-games/blackjack/statistics.htm.\n",
    "\n",
    "3. Ph.D, Henry Tamburin. “Top 8 Reasons Why Most Blackjack Players Lose.” Online Casino, 888, 29 June 2017, www.888casino.com/blog/top-8-reasons-why-most-blackjack-players-lose.\n",
    "\n",
    "Where I found the progessive betting stategy \n",
    "\n",
    "1. Metro. “5 Tips for Basic Blackjack Money Management.” Metro US, 27 Feb. 2020, www.metro.us/5-tips-for-basic-blackjack-money-management/."
   ]
  }
 ],
 "metadata": {
  "kernelspec": {
   "display_name": "Python 3",
   "language": "python",
   "name": "python3"
  },
  "language_info": {
   "codemirror_mode": {
    "name": "ipython",
    "version": 3
   },
   "file_extension": ".py",
   "mimetype": "text/x-python",
   "name": "python",
   "nbconvert_exporter": "python",
   "pygments_lexer": "ipython3",
   "version": "3.7.4"
  }
 },
 "nbformat": 4,
 "nbformat_minor": 2
}
